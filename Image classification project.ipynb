{
 "cells": [
  {
   "cell_type": "code",
   "execution_count": 1,
   "metadata": {},
   "outputs": [],
   "source": [
    "#preparing dataset\n",
    "import numpy as np\n",
    "import os\n",
    "from pathlib import Path\n",
    "from keras.preprocessing import image\n",
    "import matplotlib.pyplot as plt\n",
    "import random\n"
   ]
  },
  {
   "cell_type": "code",
   "execution_count": 2,
   "metadata": {},
   "outputs": [],
   "source": [
    "p=Path(\"../../Users/KIIT/images/\")\n",
    "dirs=p.glob(\"*\")#iterating over all the folders in images folder using p.glob\n",
    "labels_dict={\"cat\":0,\"dog\":1,\"horse\":2,\"human\":3}#mapping\n",
    "image_data=[]\n",
    "labels=[]\n",
    "for folder_dir in dirs:\n",
    "    #print(folder_dir)\n",
    "    label=str(folder_dir).split(\"\\\\\")[-1][:-1]#creating labels using the last word in folder name and getting labes as cat instead of cats\n",
    "    #print(label)\n",
    "    for img_path in folder_dir.glob(\"*.jpg\"):#iterating over all the images in all folder\n",
    "        #print(img_path)\n",
    "        img=image.load_img(img_path,target_size=(32,32))#using load_img func in keras to load images\n",
    "        img_array=image.img_to_array(img)#covert image to array using img_to_array using keras \n",
    "        image_data.append(img_array)\n",
    "        labels.append(labels_dict[label])\n",
    "        \n",
    "    \n",
    "    "
   ]
  },
  {
   "cell_type": "code",
   "execution_count": 3,
   "metadata": {},
   "outputs": [
    {
     "name": "stdout",
     "output_type": "stream",
     "text": [
      "(808, 32, 32, 3) (808,)\n"
     ]
    }
   ],
   "source": [
    "image_data=np.array(image_data,dtype='float32')/255.0 #converted image_data to array\n",
    "labels=np.array(labels)#converted labels to array\n",
    "print(image_data.shape,labels.shape)"
   ]
  },
  {
   "cell_type": "code",
   "execution_count": 4,
   "metadata": {},
   "outputs": [],
   "source": [
    "#random shuffle the data\n",
    "combined=list(zip(image_data,labels))\n",
    "random.shuffle(combined)\n",
    "\n",
    "#Unzip\n",
    "image_data[:],labels[:]=zip(*combined)#* is used to unzip"
   ]
  },
  {
   "cell_type": "code",
   "execution_count": 5,
   "metadata": {},
   "outputs": [],
   "source": [
    "##visualization\n",
    "def draw(img):\n",
    "    plt.imshow(img)\n",
    "    \n",
    "    plt.show()\n",
    "    return"
   ]
  },
  {
   "cell_type": "code",
   "execution_count": 6,
   "metadata": {},
   "outputs": [
    {
     "data": {
      "image/png": "[encoded data removed]",
      "text/plain": [
       "<Figure size 432x288 with 1 Axes>"
      ]
     },
     "metadata": {
      "needs_background": "light"
     },
     "output_type": "display_data"
    }
   ],
   "source": [
    "draw(image_data[0])"
   ]
  },
  {
   "cell_type": "code",
   "execution_count": 45,
   "metadata": {},
   "outputs": [],
   "source": [
    "#Svm classifier\n",
    "class SVM:\n",
    "    def __init__(self,c=1.0):\n",
    "        self.c=c\n",
    "        self.W=0#weight\n",
    "        self.b=0#bias\n",
    "    def hingeLoss(self,W,b,X,Y):\n",
    "        loss=0.0\n",
    "        loss+=0.5+np.dot(W,W.T)\n",
    "        m=X.shape[0]\n",
    "        for i in range(m):\n",
    "            ti=Y[i]*(np.dot(W,X[i].T)+b)\n",
    "            loss+=self.c*max(0,(1-ti))\n",
    "        return loss[0][0]\n",
    "    def fit(self,X,Y,batch_size=100,learning_rate=0.001,maxItr=300):\n",
    "        no_of_features=X.shape[1]\n",
    "        no_of_samples=X.shape[0]\n",
    "        n=learning_rate\n",
    "        c=self.c\n",
    "        W=np.zeros((1,no_of_features))\n",
    "        bias=0\n",
    "        #print(self.hingeLoss(W,bias,X,Y))\n",
    "        \n",
    "        #train\n",
    "        #weight and bias update\n",
    "        losses=[]\n",
    "        for i in range(maxItr):\n",
    "            #training loop\n",
    "            l=self.hingeLoss(W,bias,X,Y)\n",
    "            losses.append(l)\n",
    "            ids=np.arange(no_of_samples)\n",
    "            np.random.shuffle(ids)\n",
    "            #batch gradient descent with random shuffling\n",
    "            for batch_start in range(0,no_of_samples,batch_size):\n",
    "                #assume 0 gradient for the batch\n",
    "                gradw=0\n",
    "                gradb=0\n",
    "                #iterate over all examples in mini batch\n",
    "                for j in range(batch_start,batch_start+batch_size):\n",
    "                    if j<no_of_samples:\n",
    "                        i=ids[j]\n",
    "                        ti=Y[i]*(np.dot(W,X[i].T)+bias)\n",
    "                        if ti>1:\n",
    "                            gradw+=0\n",
    "                            gradb+=0\n",
    "                        else:\n",
    "                            gradw+=c*Y[i]*X[i]\n",
    "                            gradb+=c*Y[i]\n",
    "                #update w and b\n",
    "                W=W-n*W+n*gradw\n",
    "                bias=bias+n*gradb\n",
    "        self.W=W\n",
    "        self.b=bias\n",
    "        return W,bias,losses"
   ]
  },
  {
   "cell_type": "code",
   "execution_count": 46,
   "metadata": {},
   "outputs": [],
   "source": [
    "## we need to convert data for one for one classification\n",
    "##for n classes train nC2 classifier\n",
    "m=image_data.shape[0]\n",
    "image_data=image_data.reshape(m,-1)\n",
    "classes=len(np.unique(labels))"
   ]
  },
  {
   "cell_type": "code",
   "execution_count": null,
   "metadata": {},
   "outputs": [],
   "source": []
  },
  {
   "cell_type": "code",
   "execution_count": 47,
   "metadata": {},
   "outputs": [],
   "source": [
    "def classWiseData(x,y):\n",
    "    data={}\n",
    "    for i in range(classes):\n",
    "        data[i]=[]#empty list\n",
    "    for i in range(x.shape[0]):\n",
    "        data[y[i]].append(x[i])#inserting data in respective classes\n",
    "    for k in data.keys():\n",
    "        data[k]=np.array(data[k])#converting values in data from list to arrays\n",
    "    return data"
   ]
  },
  {
   "cell_type": "code",
   "execution_count": 48,
   "metadata": {},
   "outputs": [],
   "source": [
    "data=classWiseData(image_data,labels)"
   ]
  },
  {
   "cell_type": "code",
   "execution_count": 49,
   "metadata": {},
   "outputs": [],
   "source": [
    "def getDataPairForSVM(d1,d2):#d1 and d2 class should have labels as -1 and 1 for one for one classification no of classication should be nC2\n",
    "    ##combines data of two classes into a single matrix\n",
    "    l1,l2=d1.shape[0],d2.shape[0]\n",
    "    samples=l1+l2\n",
    "    features=d1.shape[1]\n",
    "    \n",
    "    data_pair=np.zeros((samples,features))\n",
    "    data_labels=np.zeros((samples,))\n",
    "    data_pair[:l1,:]=d1\n",
    "    data_pair[l1:,:]=d2\n",
    "    \n",
    "    data_labels[:l1]=-1\n",
    "    data_labels[l1:]=+1\n",
    "    \n",
    "    return data_pair,data_labels\n"
   ]
  },
  {
   "cell_type": "code",
   "execution_count": 102,
   "metadata": {},
   "outputs": [],
   "source": [
    "#training nc2 svm part\n",
    "mySVM=SVM()\n",
    "def trainSVM(x,y):\n",
    "    svm_classifiers={}#stores weights and bias for every pair we train\n",
    "    for i in range(classes):\n",
    "        svm_classifiers[i]={}\n",
    "        for j in range(i+1,classes):\n",
    "            xpair,ypair=getDataPairForSVM(data[i],data[j])\n",
    "            wts,b,loss=mySVM.fit(xpair,ypair,learning_rate=0.00001,maxItr=1000)\n",
    "            svm_classifiers[i][j]=(wts,b)\n",
    "            plt.plot(loss)\n",
    "            plt.show()\n",
    "    return svm_classifiers"
   ]
  },
  {
   "cell_type": "code",
   "execution_count": null,
   "metadata": {},
   "outputs": [],
   "source": []
  },
  {
   "cell_type": "code",
   "execution_count": 103,
   "metadata": {},
   "outputs": [
    {
     "data": {
      "image/png": "[encoded data removed]",
      "text/plain": [
       "<Figure size 432x288 with 1 Axes>"
      ]
     },
     "metadata": {
      "needs_background": "light"
     },
     "output_type": "display_data"
    },
    {
     "data": {
      "image/png": "[encoded data removed]",
      "text/plain": [
       "<Figure size 432x288 with 1 Axes>"
      ]
     },
     "metadata": {
      "needs_background": "light"
     },
     "output_type": "display_data"
    },
    {
     "data": {
      "image/png": "[encoded data removed]",
      "text/plain": [
       "<Figure size 432x288 with 1 Axes>"
      ]
     },
     "metadata": {
      "needs_background": "light"
     },
     "output_type": "display_data"
    },
    {
     "data": {
      "image/png": "[encoded data removed]",
      "text/plain": [
       "<Figure size 432x288 with 1 Axes>"
      ]
     },
     "metadata": {
      "needs_background": "light"
     },
     "output_type": "display_data"
    },
    {
     "data": {
      "image/png": "[encoded data removed]",
      "text/plain": [
       "<Figure size 432x288 with 1 Axes>"
      ]
     },
     "metadata": {
      "needs_background": "light"
     },
     "output_type": "display_data"
    },
    {
     "data": {
      "image/png": "[encoded data removed]",
      "text/plain": [
       "<Figure size 432x288 with 1 Axes>"
      ]
     },
     "metadata": {
      "needs_background": "light"
     },
     "output_type": "display_data"
    }
   ],
   "source": [
    "svm_classifiers=trainSVM(image_data,labels)"
   ]
  },
  {
   "cell_type": "code",
   "execution_count": 104,
   "metadata": {},
   "outputs": [],
   "source": [
    "#cats_dogs=svm_classifiers[0][1]#parameters for cats and dogs\n",
    "#print(cats_dogs[0].shape)\n",
    "#print(cats_dogs[1])"
   ]
  },
  {
   "cell_type": "code",
   "execution_count": 105,
   "metadata": {},
   "outputs": [],
   "source": [
    "#cats_humans=svm_classifiers[0][3]\n",
    "#print(cats_humans[0])"
   ]
  },
  {
   "cell_type": "code",
   "execution_count": 106,
   "metadata": {},
   "outputs": [],
   "source": [
    "def binarypredict(x,w,bias): #will predict as -1 or 1\n",
    "    z=np.dot(x,w.T) +bias\n",
    "    if z>=0:\n",
    "        return 1\n",
    "    else:\n",
    "        return -1"
   ]
  },
  {
   "cell_type": "code",
   "execution_count": 107,
   "metadata": {},
   "outputs": [],
   "source": [
    "#prediction\n",
    "def predict(x):\n",
    "    count=np.zeros((classes,))\n",
    "    for i in range(classes):\n",
    "        for j in range(i+1,classes):\n",
    "            w,b=svm_classifiers[i][j]\n",
    "            #majority prediction\n",
    "            z=binarypredict(x,w,b)\n",
    "            if z==1:#we trained the data as -1 and 1\n",
    "                count[j]+=1\n",
    "            else:\n",
    "                count[i]+=1\n",
    "    final_prediction=np.argmax(count)\n",
    "    #print(count)\n",
    "    return final_prediction\n",
    "                "
   ]
  },
  {
   "cell_type": "code",
   "execution_count": 108,
   "metadata": {},
   "outputs": [
    {
     "data": {
      "text/plain": [
       "0"
      ]
     },
     "execution_count": 108,
     "metadata": {},
     "output_type": "execute_result"
    }
   ],
   "source": [
    "predict(image_data[0])\n"
   ]
  },
  {
   "cell_type": "code",
   "execution_count": 109,
   "metadata": {},
   "outputs": [
    {
     "name": "stdout",
     "output_type": "stream",
     "text": [
      "1\n"
     ]
    }
   ],
   "source": [
    "print(labels[0])"
   ]
  },
  {
   "cell_type": "code",
   "execution_count": 110,
   "metadata": {},
   "outputs": [],
   "source": [
    "def accuracy(x,y):\n",
    "    count=0\n",
    "    for i in range(x.shape[0]):\n",
    "        prediction=predict(x[i])\n",
    "        if(prediction==y[i]):\n",
    "            count+=1\n",
    "    return count/x.shape[0]"
   ]
  },
  {
   "cell_type": "code",
   "execution_count": 111,
   "metadata": {},
   "outputs": [],
   "source": [
    "acc=accuracy(image_data,labels)"
   ]
  },
  {
   "cell_type": "code",
   "execution_count": 112,
   "metadata": {},
   "outputs": [
    {
     "data": {
      "text/plain": [
       "0.5866336633663366"
      ]
     },
     "execution_count": 112,
     "metadata": {},
     "output_type": "execute_result"
    }
   ],
   "source": [
    "acc"
   ]
  },
  {
   "cell_type": "code",
   "execution_count": 113,
   "metadata": {},
   "outputs": [],
   "source": [
    "#scikit"
   ]
  },
  {
   "cell_type": "code",
   "execution_count": 114,
   "metadata": {},
   "outputs": [
    {
     "data": {
      "text/plain": [
       "0.6386138613861386"
      ]
     },
     "execution_count": 114,
     "metadata": {},
     "output_type": "execute_result"
    }
   ],
   "source": [
    "from sklearn import svm\n",
    "svm_classifier=svm.SVC(kernel='linear',C=1.0)#c is penalty\n",
    "svm_classifier.fit(image_data,labels)\n",
    "svm_classifier.score(image_data,labels)"
   ]
  },
  {
   "cell_type": "code",
   "execution_count": null,
   "metadata": {},
   "outputs": [],
   "source": []
  }
 ],
 "metadata": {
  "kernelspec": {
   "display_name": "Python 3",
   "language": "python",
   "name": "python3"
  },
  "language_info": {
   "codemirror_mode": {
    "name": "ipython",
    "version": 3
   },
   "file_extension": ".py",
   "mimetype": "text/x-python",
   "name": "python",
   "nbconvert_exporter": "python",
   "pygments_lexer": "ipython3",
   "version": "3.7.4"
  }
 },
 "nbformat": 4,
 "nbformat_minor": 2
}
